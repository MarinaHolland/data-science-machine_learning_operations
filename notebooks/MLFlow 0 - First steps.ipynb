{
 "cells": [
  {
   "cell_type": "markdown",
   "metadata": {},
   "source": [
    "## What is MLOps?"
   ]
  },
  {
   "cell_type": "markdown",
   "metadata": {},
   "source": [
    "It is a set of tools that we can use for development, deployment and maintenance of machine learning models in order to improve them and register them."
   ]
  },
  {
   "cell_type": "markdown",
   "metadata": {},
   "source": [
    "## Experiments and runs in MLOps"
   ]
  },
  {
   "cell_type": "markdown",
   "metadata": {},
   "source": [
    "We are going to uset a diabetes df in order to log our first run in MLFlow."
   ]
  },
  {
   "cell_type": "code",
   "execution_count": 4,
   "metadata": {},
   "outputs": [],
   "source": [
    "import mlflow\n",
    "from sklearn.model_selection import train_test_split\n",
    "from sklearn.datasets import load_diabetes\n",
    "from sklearn.ensemble import RandomForestRegressor"
   ]
  },
  {
   "cell_type": "markdown",
   "metadata": {},
   "source": [
    "### MLflow Experiment Setup and Auto-Logging\n",
    "\n",
    "This section sets up an MLflow experiment by specifying the tracking URI and experiment ID. It also enables **auto-logging**, which automatically logs parameters, metrics, and models during training, making it easier to track and visualize the experiment's progress.\n",
    "\n",
    "- **MLFLOW_TRACKING_URI**: Specifies the location of the MLflow server (in this case, a local server at `http://localhost:5000`).\n",
    "- **mlflow.set_tracking_uri**: Configures the tracking URI for the MLflow client.\n",
    "- **mlflow.set_experiment**: Sets the experiment ID to ensure that all logged data is associated with the correct experiment.\n",
    "- **mlflow.autolog()**: Activates auto-logging to capture key model training details automatically, such as metrics, hyperparameters, and the final model.\n",
    "\n",
    "This setup simplifies the process of tracking and comparing different runs of the machine learning model.\n"
   ]
  },
  {
   "cell_type": "code",
   "execution_count": 6,
   "metadata": {},
   "outputs": [
    {
     "name": "stderr",
     "output_type": "stream",
     "text": [
      "2025/01/15 20:50:58 INFO mlflow.tracking.fluent: Autologging successfully enabled for sklearn.\n"
     ]
    }
   ],
   "source": [
    "# set the experiment id\n",
    "MLFLOW_TRACKING_URI = \"http://localhost:5000\"\n",
    "mlflow.set_tracking_uri(MLFLOW_TRACKING_URI)\n",
    "mlflow.set_experiment(experiment_id=\"932019549495243714\")\n",
    "\n",
    "# setting autolog in order to save all data\n",
    "mlflow.autolog()"
   ]
  },
  {
   "cell_type": "markdown",
   "metadata": {},
   "source": [
    "### Model Training and Prediction\n",
    "\n",
    "We load the **diabetes dataset** and split it into training and test sets. A **RandomForestRegressor** model is then trained on the training data, and predictions are made on the test dataset.\n",
    "\n",
    "- **load_diabetes()**: Loads the diabetes dataset, which includes features related to diabetes progression and the target variable (disease progression).\n",
    "- **train_test_split**: Splits the dataset into training and test sets to evaluate model performance.\n",
    "- **RandomForestRegressor**: A random forest model is created with the following hyperparameters:\n",
    "  - `n_estimators=100`: The model uses 100 trees.\n",
    "  - `max_depth=6`: The maximum depth of each tree is limited to 6.\n",
    "  - `max_features=3`: Each tree is allowed to use up to 3 features at each split.\n",
    "- **rf.fit()**: Trains the random forest model on the training data (`X_train`, `y_train`).\n",
    "- **rf.predict()**: Uses the trained model to make predictions on the test data (`X_test`).\n",
    "\n",
    "The output is a set of predictions on the test dataset.\n"
   ]
  },
  {
   "cell_type": "code",
   "execution_count": 7,
   "metadata": {},
   "outputs": [
    {
     "name": "stderr",
     "output_type": "stream",
     "text": [
      "2025/01/15 20:51:00 INFO mlflow.utils.autologging_utils: Created MLflow autologging run with ID '5fa6c9e30ed640f7bd202c909fb94b39', which will track hyperparameters, performance metrics, model artifacts, and lineage information for the current sklearn workflow\n"
     ]
    },
    {
     "name": "stderr",
     "output_type": "stream",
     "text": [
      "2025/01/15 20:51:03 INFO mlflow.tracking._tracking_service.client: 🏃 View run rumbling-flea-894 at: http://localhost:5000/#/experiments/932019549495243714/runs/5fa6c9e30ed640f7bd202c909fb94b39.\n",
      "2025/01/15 20:51:03 INFO mlflow.tracking._tracking_service.client: 🧪 View experiment at: http://localhost:5000/#/experiments/932019549495243714.\n"
     ]
    }
   ],
   "source": [
    "db = load_diabetes()\n",
    "\n",
    "X_train, X_test, y_train, y_test = train_test_split(db.data, db.target)\n",
    "\n",
    "# create and train models.\n",
    "rf = RandomForestRegressor(n_estimators=100, max_depth=6, max_features=3)\n",
    "rf.fit(X_train, y_train)\n",
    "\n",
    "# use the model to make predictions on the test dataset.\n",
    "predictions = rf.predict(X_test)"
   ]
  },
  {
   "cell_type": "markdown",
   "metadata": {},
   "source": [
    "This line of code sets the name for the MLflow experiment. An experiment is a logical container in MLflow where different runs (model training sessions) are tracked. By specifying the experiment name as **\"My First Experiment\"**, all subsequent runs and their results will be logged under this experiment.\n",
    "\n",
    "- **mlflow.set_experiment(\"My First Experiment\")**: This creates or sets the experiment with the given name, ensuring that the experiment's parameters, metrics, and models are grouped together.\n",
    "\n",
    "This helps organize and track the progress of different machine learning models in MLflow.\n"
   ]
  },
  {
   "cell_type": "code",
   "execution_count": 8,
   "metadata": {},
   "outputs": [
    {
     "data": {
      "text/plain": [
       "<Experiment: artifact_location='mlflow-artifacts:/932019549495243714', creation_time=1736873321345, experiment_id='932019549495243714', last_update_time=1736873321345, lifecycle_stage='active', name='My First Experiment', tags={}>"
      ]
     },
     "execution_count": 8,
     "metadata": {},
     "output_type": "execute_result"
    }
   ],
   "source": [
    "mlflow.set_experiment(\"My First Experiment\")"
   ]
  },
  {
   "cell_type": "markdown",
   "metadata": {},
   "source": [
    "### Logging with MLflow: Tags, Parameters, and Metrics\n",
    "\n",
    "In this section, we start an MLflow run and log various details about the model training session, including custom tags, hyperparameters, and performance metrics.\n",
    "\n",
    "- **mlflow.start_run()**: Starts a new run within the current experiment. This run is used to track all the logged information.\n",
    "- **mlflow.set_tags()**: Sets custom tags for the current run. In this case, a tag `my_tag` is assigned the value `\"my_value\"`. Tags can be useful for categorizing and filtering runs.\n",
    "- **mlflow.log_params()**: Logs hyperparameters or configuration details. Here, the number of estimators for the model is logged as `n_estimators: 101`.\n",
    "- **mlflow.log_metrics()**: Logs performance metrics. In this example, the Mean Squared Error (MSE) of the model is logged as `mse: 5`.\n",
    "\n",
    "This setup ensures that important information about the model training process is captured and can be visualized or compared later in the MLflow interface.\n"
   ]
  },
  {
   "cell_type": "code",
   "execution_count": 10,
   "metadata": {},
   "outputs": [
    {
     "name": "stderr",
     "output_type": "stream",
     "text": [
      "2025/01/15 20:52:05 INFO mlflow.tracking._tracking_service.client: 🏃 View run puzzled-cow-742 at: http://localhost:5000/#/experiments/932019549495243714/runs/05e6d4fb4d4c438bb843ec4f8ca04d05.\n",
      "2025/01/15 20:52:05 INFO mlflow.tracking._tracking_service.client: 🧪 View experiment at: http://localhost:5000/#/experiments/932019549495243714.\n"
     ]
    }
   ],
   "source": [
    "with mlflow.start_run():\n",
    "\n",
    "    mlflow.set_tags({\"my_tag\": \"my_value\"})\n",
    "\n",
    "    mlflow.log_params({\"n_estimators\": 101})\n",
    "\n",
    "    mlflow.log_metrics({\"mse\": 5})"
   ]
  }
 ],
 "metadata": {
  "kernelspec": {
   "display_name": "myenv",
   "language": "python",
   "name": "python3"
  },
  "language_info": {
   "codemirror_mode": {
    "name": "ipython",
    "version": 3
   },
   "file_extension": ".py",
   "mimetype": "text/x-python",
   "name": "python",
   "nbconvert_exporter": "python",
   "pygments_lexer": "ipython3",
   "version": "3.11.11"
  }
 },
 "nbformat": 4,
 "nbformat_minor": 2
}
