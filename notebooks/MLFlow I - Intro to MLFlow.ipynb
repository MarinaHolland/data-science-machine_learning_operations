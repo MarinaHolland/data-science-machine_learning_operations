{
 "cells": [
  {
   "cell_type": "markdown",
   "metadata": {},
   "source": [
    "# ✍️ Exercise: Intro to MLFlow - Part I\n",
    "\n",
    "In this exercise, we will cover the basics of MLFlow. MLFlow is an open-source platform for the complete machine learning lifecycle. It is designed to work with any machine learning library and to be agnostic to the execution environment. It is also designed to be scalable and to support the complete machine learning lifecycle, including experimentation, reproducibility, and deployment.\n",
    "\n",
    "In this first part, we will cover the following topics:\n",
    "- How to Install MLFlow.\n",
    "- How to launch the MLFlow Server.\n",
    "- How to create a new MLFlow Experiment.\n",
    "- How to create a new MLFlow Run.\n",
    "- How to log parameters, metrics, and artifacts."
   ]
  },
  {
   "cell_type": "markdown",
   "metadata": {},
   "source": [
    "## How to Install MLFlow\n",
    "\n",
    "💡 Remember: We can simply install MLFlow **using pip** 🎉\n",
    "\n",
    "```bash\n",
    "pip install mlflow\n",
    "```\n",
    "\n",
    "## How to launch the MLFlow Server\n",
    "\n",
    "💡 Remember: After installing MLFlow, we can launch the MLFlow server using the following command **in the terminal**:\n",
    "\n",
    "```bash\n",
    "mlflow server\n",
    "```\n",
    "\n",
    "You will see the following output:\n",
    "\n",
    "```bash\n",
    "[2024-02-21 23:29:52 +0100] [725738] [INFO] Starting gunicorn 21.2.0\n",
    "[2024-02-21 23:29:52 +0100] [725738] [INFO] Listening at: http://127.0.0.1:5000 (725738)\n",
    "[2024-02-21 23:29:52 +0100] [725738] [INFO] Using worker: sync\n",
    "[2024-02-21 23:29:52 +0100] [725739] [INFO] Booting worker with pid: 725739\n",
    "[2024-02-21 23:29:52 +0100] [725740] [INFO] Booting worker with pid: 725740\n",
    "[2024-02-21 23:29:53 +0100] [725741] [INFO] Booting worker with pid: 725741\n",
    "```\n",
    "\n",
    "👉 Then, we can **access the mlflow server by opening the following URL in a web browser**: http://localhost:5000.\n"
   ]
  },
  {
   "cell_type": "markdown",
   "metadata": {},
   "source": [
    "## Exercise I: Connecting to the MLFlow Server\n",
    "\n",
    "1. 👉 Connect to MLFlow using `mlflow.set_tracking_uri()` and set the URI to `http://localhost:5000`.\n",
    "2. 👉 Use `mlflow.search_experiments()` to list all the experiments."
   ]
  },
  {
   "cell_type": "code",
   "execution_count": 1,
   "metadata": {},
   "outputs": [
    {
     "data": {
      "text/plain": [
       "[<Experiment: artifact_location='mlflow-artifacts:/177159746396885082', creation_time=1737224616793, experiment_id='177159746396885082', last_update_time=1737224616793, lifecycle_stage='active', name='Diabetes Linear Regression', tags={}>,\n",
       " <Experiment: artifact_location='mlflow-artifacts:/645908549444011624', creation_time=1737053317662, experiment_id='645908549444011624', last_update_time=1737053317662, lifecycle_stage='active', name='loan_prediction', tags={}>,\n",
       " <Experiment: artifact_location='mlflow-artifacts:/932019549495243714', creation_time=1736873321345, experiment_id='932019549495243714', last_update_time=1736873321345, lifecycle_stage='active', name='My First Experiment', tags={}>,\n",
       " <Experiment: artifact_location='mlflow-artifacts:/0', creation_time=1736872650417, experiment_id='0', last_update_time=1736872650417, lifecycle_stage='active', name='Default', tags={}>]"
      ]
     },
     "execution_count": 1,
     "metadata": {},
     "output_type": "execute_result"
    }
   ],
   "source": [
    "import mlflow\n",
    "\n",
    "MLFLOW_URI = \"http://localhost:5000\"\n",
    "\n",
    "mlflow.set_tracking_uri(MLFLOW_URI)\n",
    "mlflow.search_experiments()"
   ]
  },
  {
   "cell_type": "markdown",
   "metadata": {},
   "source": [
    "## Exercise II: Creating a New MLFlow Experiment\n",
    "\n",
    "1. 👉 Create a new MLFlow Experiment using `mlflow.create_experiment()` and set the name to `intro-to-mlflow`.\n",
    "2. 👉 Check if the experiment was created by using `mlflow.get_experiment_by_name()`.\n",
    "3. 👉 Print the experiment ID."
   ]
  },
  {
   "cell_type": "code",
   "execution_count": 11,
   "metadata": {},
   "outputs": [
    {
     "data": {
      "text/plain": [
       "'786641950524177537'"
      ]
     },
     "execution_count": 11,
     "metadata": {},
     "output_type": "execute_result"
    }
   ],
   "source": [
    "# I had to change the name of the experiment\n",
    "mlflow.create_experiment(\"intro-to-mlflow-test\")"
   ]
  },
  {
   "cell_type": "code",
   "execution_count": 12,
   "metadata": {},
   "outputs": [
    {
     "name": "stdout",
     "output_type": "stream",
     "text": [
      "Experiment ID: 786641950524177537\n"
     ]
    }
   ],
   "source": [
    "experiment = mlflow.get_experiment_by_name(\"intro-to-mlflow-test\")\n",
    "\n",
    "if experiment:\n",
    "    print(f\"Experiment ID: {experiment.experiment_id}\")\n",
    "else:\n",
    "    print(\"El experimento no fue encontrado.\")"
   ]
  },
  {
   "cell_type": "markdown",
   "metadata": {},
   "source": [
    "## Exercise III: Creating a New MLFlow Run\n",
    "\n",
    "1. 👉 Create a new MLFlow Run using `mlflow.start_run()` and set the experiment_id to the ID of the `intro-to-mlflow` experiment.\n",
    "2. 👉 Check if the run was created by using `run.info.run_id`.\n",
    "3. 👉 Print the run_id."
   ]
  },
  {
   "cell_type": "code",
   "execution_count": 13,
   "metadata": {},
   "outputs": [
    {
     "name": "stderr",
     "output_type": "stream",
     "text": [
      "2025/01/19 22:40:52 INFO mlflow.tracking._tracking_service.client: 🏃 View run efficient-doe-25 at: http://localhost:5000/#/experiments/786641950524177537/runs/ebae3e27d87b4c8cb0b3cd65248e2eee.\n",
      "2025/01/19 22:40:52 INFO mlflow.tracking._tracking_service.client: 🧪 View experiment at: http://localhost:5000/#/experiments/786641950524177537.\n"
     ]
    },
    {
     "name": "stdout",
     "output_type": "stream",
     "text": [
      "Run ID: ebae3e27d87b4c8cb0b3cd65248e2eee\n"
     ]
    }
   ],
   "source": [
    "with mlflow.start_run(experiment_id=experiment.experiment_id) as run:\n",
    "   \n",
    "    run_id = run.info.run_id\n",
    "    \n",
    "    \n",
    "    print(f\"Run ID: {run_id}\")"
   ]
  },
  {
   "cell_type": "markdown",
   "metadata": {},
   "source": [
    "## Exercise IV: Logging Tags, Parameters and Metrics\n",
    "\n",
    "Imagine you have the following information about the run:\n",
    "\n",
    "- model_type: \"RandomForest\"\n",
    "- accuracy: 0.85\n",
    "- max_depth: 10\n",
    "- precision: 0.90\n",
    "- learning_rate: 0.01\n",
    "- recall: 0.80\n",
    "\n",
    "1. 👉 Think. What should you log as a tag, parameter, and metric?\n",
    "2. 👉 Create a new MLFlow Run using `mlflow.start_run()` and set the experiment_id to the ID of the `intro-to-mlflow` experiment.\n",
    "3. 👉 Log the tags using `mlflow.set_tags()`.\n",
    "4. 👉 Log the parameters using `mlflow.log_param()`.\n",
    "5. 👉 Log the metrics using `mlflow.log_metric()`."
   ]
  },
  {
   "cell_type": "code",
   "execution_count": 16,
   "metadata": {},
   "outputs": [
    {
     "name": "stderr",
     "output_type": "stream",
     "text": [
      "2025/01/19 22:47:13 INFO mlflow.tracking._tracking_service.client: 🏃 View run crawling-auk-785 at: http://localhost:5000/#/experiments/786641950524177537/runs/ea123b855584471e95077290cec8e003.\n",
      "2025/01/19 22:47:13 INFO mlflow.tracking._tracking_service.client: 🧪 View experiment at: http://localhost:5000/#/experiments/786641950524177537.\n"
     ]
    }
   ],
   "source": [
    "with mlflow.start_run(experiment_id=experiment.experiment_id) as run:\n",
    "    mlflow.set_tag(\"model\", \"Random Forest\")\n",
    "    mlflow.log_params({\"max_depth\":10, \"precision\":0.90, \"learning_rate\":0.01})\n",
    "    mlflow.log_metric(\"accuracy\", 0.85)\n",
    "    mlflow.log_metric(\"recall\", 0.80)"
   ]
  }
 ],
 "metadata": {
  "kernelspec": {
   "display_name": "myenv",
   "language": "python",
   "name": "python3"
  },
  "language_info": {
   "codemirror_mode": {
    "name": "ipython",
    "version": 3
   },
   "file_extension": ".py",
   "mimetype": "text/x-python",
   "name": "python",
   "nbconvert_exporter": "python",
   "pygments_lexer": "ipython3",
   "version": "3.11.11"
  }
 },
 "nbformat": 4,
 "nbformat_minor": 2
}
